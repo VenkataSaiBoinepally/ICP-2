{
 "cells": [
  {
   "cell_type": "code",
   "execution_count": 1,
   "id": "a7b24ecf",
   "metadata": {},
   "outputs": [
    {
     "name": "stdout",
     "output_type": "stream",
     "text": [
      "Enter your first name:ss\n",
      "Enter your last name:sunny\n",
      "ss sunny\n"
     ]
    }
   ],
   "source": [
    "First_name  =  (input(\"Enter your first name:\"))\n",
    "Last_name  =  (input(\"Enter your last name:\"))\n",
    "Full_name =  First_name +\" \"+ Last_name\n",
    "print(Full_name)"
   ]
  },
  {
   "cell_type": "code",
   "execution_count": 2,
   "id": "76df4985",
   "metadata": {},
   "outputs": [
    {
     "name": "stdout",
     "output_type": "stream",
     "text": [
      "s un\n"
     ]
    }
   ],
   "source": [
    "def string_alternative(str):\n",
    "    output = \"\"\n",
    "    for i in range(len(str)):\n",
    "        if i % 2 == 0:\n",
    "            output += str[i]\n",
    "    return output\n",
    "\n",
    "print(string_alternative(Full_name)) "
   ]
  },
  {
   "cell_type": "code",
   "execution_count": 3,
   "id": "f7f55310",
   "metadata": {},
   "outputs": [],
   "source": [
    "input_file = open(\"C:\\\\Users\\\\venka\\\\Downloads\\\\input.txt\", \"r\")\n",
    "output_file = open(\"C:\\\\Users\\\\venka\\\\Downloads\\\\output.txt\", \"w\")\n",
    "\n",
    "content = {}\n",
    "\n",
    "for line in input_file:\n",
    "    output_file.write(line)\n",
    "    new_l = line.split()\n",
    "    for x in new_l:\n",
    "        if(content.get(x)==None):\n",
    "            content[x]=1\n",
    "        else:\n",
    "            content[x] = content[x] + 1\n",
    "            \n",
    "output_file.write(\" Word_Count : \")\n",
    "for key, value in content.items(): \n",
    "        output_file.write('%s:%s\\n' % (key, value))\n",
    "input_file.close()\n",
    "output_file.close()"
   ]
  },
  {
   "cell_type": "code",
   "execution_count": 4,
   "id": "3d32da3e",
   "metadata": {},
   "outputs": [
    {
     "name": "stdout",
     "output_type": "stream",
     "text": [
      "Enter Customer Heights :56 89 88\n",
      "output : [142.24, 226.06, 223.52]\n"
     ]
    }
   ],
   "source": [
    "L1=list(map(float,input(\"Enter Customer Heights :\").split()))\n",
    "L2=[]\n",
    "for x in L1:\n",
    "    x=x*2.54\n",
    "    L2.append(x)\n",
    "print(\"output :\", L2)"
   ]
  }
 ],
 "metadata": {
  "kernelspec": {
   "display_name": "Python 3 (ipykernel)",
   "language": "python",
   "name": "python3"
  },
  "language_info": {
   "codemirror_mode": {
    "name": "ipython",
    "version": 3
   },
   "file_extension": ".py",
   "mimetype": "text/x-python",
   "name": "python",
   "nbconvert_exporter": "python",
   "pygments_lexer": "ipython3",
   "version": "3.9.13"
  }
 },
 "nbformat": 4,
 "nbformat_minor": 5
}
